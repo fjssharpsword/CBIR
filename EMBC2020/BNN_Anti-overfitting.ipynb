{
 "cells": [
  {
   "cell_type": "raw",
   "metadata": {},
   "source": [
    "EMBC2020: Prediction of Length of Stay on the Intensive Care Unit based on Bayesian Neural Networks\n",
    "1.Dataset: \n",
    "  1)eICU-CRD, https://physionet.org/content/eicu-crd/2.0/   and    https://eicu-crd.mit.edu/ \n",
    "  2)Abstract: The eICU Collaborative Research Database is a multi-center database comprising deidentified health data associated with                over 200,000 admissions to ICUs across the United States between 2014-2015. The database includes vital sign                        measurements, care plan documentation, severity of illness measures, diagnosis information, and treatment information.                Data is collected through the Philips eICU program, a critical care telehealth program that delivers information to                  caregivers at the bedside. \n",
    "  3)Table used: apacheApsVar, apachePredVar, apachePatientResult\n",
    "  \n",
    "2.Task: \n",
    "  1)Apache(Acute Physiology and Chronic Health Evaluation) IV scoring system have been used widely in the intensive care unit(ICU).\n",
    "  2)Critical care medicine Journal-2006: Acute Physiology and Chronic Health Evaluation (APACHE) IV: hospital mortality assessment for today’s critically ill patients.\n",
    "  3)Predict length of stay (los) and Mortality, considering the degree of disease but not directly mortality.\n",
    "  \n",
    "3.Model: \n",
    "  The performance of BNN,DNN,LS+L1,RF on anti-overfitting."
   ]
  },
  {
   "cell_type": "code",
   "execution_count": null,
   "metadata": {},
   "outputs": [],
   "source": []
  }
 ],
 "metadata": {
  "kernelspec": {
   "display_name": "python3.7",
   "language": "python",
   "name": "python3.7"
  },
  "language_info": {
   "codemirror_mode": {
    "name": "ipython",
    "version": 3
   },
   "file_extension": ".py",
   "mimetype": "text/x-python",
   "name": "python",
   "nbconvert_exporter": "python",
   "pygments_lexer": "ipython3",
   "version": "3.7.4"
  }
 },
 "nbformat": 4,
 "nbformat_minor": 2
}
