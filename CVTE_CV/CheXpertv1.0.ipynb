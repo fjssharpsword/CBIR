{
 "cells": [
  {
   "cell_type": "raw",
   "metadata": {},
   "source": [
    "Dataset: CheXpertv1.0\n",
    "https://www.kaggle.com/nih-chest-xrays/data\n",
    "http://stanfordmlgroup.github.io/competitions/chexpert/\n",
    "1) 224,316 chest radiographs of 65,240 patients\n",
    "2）Label: No Finding, Enlarged Cardiomediastinum, Cardiomegaly, Lung Lesion, Lung Opacity, Edema, Consolidation, Pneumonia, Atelectasis, Pneumothorax, Pleural Effusion, Pleural Other, Fracture, Support Devices\n",
    "0.0 - negative, 1.0 - positve, -1.0 - uncertain"
   ]
  },
  {
   "cell_type": "code",
   "execution_count": 1,
   "metadata": {},
   "outputs": [
    {
     "name": "stderr",
     "output_type": "stream",
     "text": [
      "Loading faiss with AVX2 support.\n"
     ]
    },
    {
     "name": "stdout",
     "output_type": "stream",
     "text": [
      "2\n"
     ]
    }
   ],
   "source": [
    "import matplotlib.pyplot as plt\n",
    "%matplotlib inline\n",
    "import numpy as np\n",
    "import pandas as pd\n",
    "import os\n",
    "import sys\n",
    "import shutil\n",
    "import math\n",
    "import random\n",
    "import heapq \n",
    "import time\n",
    "import copy\n",
    "import itertools  \n",
    "from PIL import Image\n",
    "from io import StringIO,BytesIO \n",
    "from scipy.spatial.distance import pdist\n",
    "import cv2\n",
    "from scipy.signal import butter, lfilter\n",
    "from sklearn.model_selection import train_test_split\n",
    "from sklearn.metrics import confusion_matrix,roc_curve,accuracy_score,auc \n",
    "from functools import reduce\n",
    "import faiss \n",
    "import torch\n",
    "import torch.nn as nn\n",
    "import torch.nn.functional as F\n",
    "from torch.autograd import Variable\n",
    "torch.cuda.set_device(2)\n",
    "print (torch.cuda.current_device())"
   ]
  },
  {
   "cell_type": "code",
   "execution_count": 2,
   "metadata": {},
   "outputs": [
    {
     "name": "stdout",
     "output_type": "stream",
     "text": [
      "Dataset statistic, records: 223414, fields: 19\n",
      "['Path', 'Sex', 'Age', 'Frontal/Lateral', 'AP/PA', 'No Finding', 'Enlarged Cardiomediastinum', 'Cardiomegaly', 'Lung Opacity', 'Lung Lesion', 'Edema', 'Consolidation', 'Pneumonia', 'Atelectasis', 'Pneumothorax', 'Pleural Effusion', 'Pleural Other', 'Fracture', 'Support Devices']\n"
     ]
    }
   ],
   "source": [
    "trData = pd.read_csv(\"/data/fjsdata/CheXpert/CheXpert-v1.0-small/train.csv\" , sep=',')\n",
    "print('Dataset statistic, records: %d, fields: %d'%(trData.shape[0], trData.shape[1]))\n",
    "print(trData.columns.values.tolist())"
   ]
  },
  {
   "cell_type": "code",
   "execution_count": 3,
   "metadata": {},
   "outputs": [
    {
     "name": "stdout",
     "output_type": "stream",
     "text": [
      " 0.0    21638\n",
      "-1.0    12403\n",
      " 1.0    10798\n",
      "Name: Enlarged Cardiomediastinum, dtype: int64\n"
     ]
    }
   ],
   "source": [
    "print(trData['Enlarged Cardiomediastinum'].value_counts())"
   ]
  },
  {
   "cell_type": "code",
   "execution_count": 4,
   "metadata": {},
   "outputs": [
    {
     "name": "stdout",
     "output_type": "stream",
     "text": [
      "                                                Path     Sex  Age  \\\n",
      "0  CheXpert-v1.0-small/train/patient00001/study1/...  Female   68   \n",
      "1  CheXpert-v1.0-small/train/patient00002/study2/...  Female   87   \n",
      "2  CheXpert-v1.0-small/train/patient00002/study1/...  Female   83   \n",
      "3  CheXpert-v1.0-small/train/patient00002/study1/...  Female   83   \n",
      "4  CheXpert-v1.0-small/train/patient00003/study1/...    Male   41   \n",
      "\n",
      "  Frontal/Lateral AP/PA  No Finding  Enlarged Cardiomediastinum  Cardiomegaly  \\\n",
      "0         Frontal    AP         1.0                         NaN           NaN   \n",
      "1         Frontal    AP         NaN                         NaN          -1.0   \n",
      "2         Frontal    AP         NaN                         NaN           NaN   \n",
      "3         Lateral   NaN         NaN                         NaN           NaN   \n",
      "4         Frontal    AP         NaN                         NaN           NaN   \n",
      "\n",
      "   Lung Opacity  Lung Lesion  Edema  Consolidation  Pneumonia  Atelectasis  \\\n",
      "0           NaN          NaN    NaN            NaN        NaN          NaN   \n",
      "1           1.0          NaN   -1.0           -1.0        NaN         -1.0   \n",
      "2           1.0          NaN    NaN           -1.0        NaN          NaN   \n",
      "3           1.0          NaN    NaN           -1.0        NaN          NaN   \n",
      "4           NaN          NaN    1.0            NaN        NaN          NaN   \n",
      "\n",
      "   Pneumothorax  Pleural Effusion  Pleural Other  Fracture  Support Devices  \n",
      "0           0.0               NaN            NaN       NaN              1.0  \n",
      "1           NaN              -1.0            NaN       1.0              NaN  \n",
      "2           NaN               NaN            NaN       1.0              NaN  \n",
      "3           NaN               NaN            NaN       1.0              NaN  \n",
      "4           0.0               NaN            NaN       NaN              NaN  \n"
     ]
    }
   ],
   "source": [
    "print(trData.head(5))"
   ]
  },
  {
   "cell_type": "code",
   "execution_count": 5,
   "metadata": {},
   "outputs": [
    {
     "name": "stdout",
     "output_type": "stream",
     "text": [
      "Dataset statistic, records: 234, fields: 19\n",
      "['Path', 'Sex', 'Age', 'Frontal/Lateral', 'AP/PA', 'No Finding', 'Enlarged Cardiomediastinum', 'Cardiomegaly', 'Lung Opacity', 'Lung Lesion', 'Edema', 'Consolidation', 'Pneumonia', 'Atelectasis', 'Pneumothorax', 'Pleural Effusion', 'Pleural Other', 'Fracture', 'Support Devices']\n"
     ]
    }
   ],
   "source": [
    "teData = pd.read_csv(\"/data/fjsdata/CheXpert/CheXpert-v1.0-small/valid.csv\" , sep=',')\n",
    "print('Dataset statistic, records: %d, fields: %d'%(teData.shape[0], teData.shape[1]))\n",
    "print(teData.columns.values.tolist())"
   ]
  },
  {
   "cell_type": "code",
   "execution_count": 6,
   "metadata": {},
   "outputs": [
    {
     "name": "stdout",
     "output_type": "stream",
     "text": [
      "                                                Path     Sex  Age  \\\n",
      "0  CheXpert-v1.0-small/valid/patient64541/study1/...    Male   73   \n",
      "1  CheXpert-v1.0-small/valid/patient64542/study1/...    Male   70   \n",
      "2  CheXpert-v1.0-small/valid/patient64542/study1/...    Male   70   \n",
      "3  CheXpert-v1.0-small/valid/patient64543/study1/...    Male   85   \n",
      "4  CheXpert-v1.0-small/valid/patient64544/study1/...  Female   42   \n",
      "\n",
      "  Frontal/Lateral AP/PA  No Finding  Enlarged Cardiomediastinum  Cardiomegaly  \\\n",
      "0         Frontal    AP         0.0                         1.0           1.0   \n",
      "1         Frontal    PA         0.0                         0.0           0.0   \n",
      "2         Lateral   NaN         0.0                         0.0           0.0   \n",
      "3         Frontal    AP         0.0                         1.0           0.0   \n",
      "4         Frontal    AP         1.0                         0.0           0.0   \n",
      "\n",
      "   Lung Opacity  Lung Lesion  Edema  Consolidation  Pneumonia  Atelectasis  \\\n",
      "0           1.0          0.0    0.0            0.0        0.0          0.0   \n",
      "1           0.0          0.0    0.0            0.0        0.0          0.0   \n",
      "2           0.0          0.0    0.0            0.0        0.0          0.0   \n",
      "3           1.0          0.0    1.0            0.0        0.0          0.0   \n",
      "4           0.0          0.0    0.0            0.0        0.0          0.0   \n",
      "\n",
      "   Pneumothorax  Pleural Effusion  Pleural Other  Fracture  Support Devices  \n",
      "0           0.0               0.0            0.0       0.0              0.0  \n",
      "1           0.0               0.0            0.0       0.0              1.0  \n",
      "2           0.0               0.0            0.0       0.0              1.0  \n",
      "3           0.0               0.0            0.0       0.0              0.0  \n",
      "4           0.0               0.0            0.0       0.0              0.0  \n"
     ]
    }
   ],
   "source": [
    "print(teData.head(5))"
   ]
  },
  {
   "cell_type": "code",
   "execution_count": null,
   "metadata": {},
   "outputs": [],
   "source": []
  }
 ],
 "metadata": {
  "kernelspec": {
   "display_name": "Python 3",
   "language": "python",
   "name": "python3"
  },
  "language_info": {
   "codemirror_mode": {
    "name": "ipython",
    "version": 3
   },
   "file_extension": ".py",
   "mimetype": "text/x-python",
   "name": "python",
   "nbconvert_exporter": "python",
   "pygments_lexer": "ipython3",
   "version": "3.7.4"
  }
 },
 "nbformat": 4,
 "nbformat_minor": 4
}
