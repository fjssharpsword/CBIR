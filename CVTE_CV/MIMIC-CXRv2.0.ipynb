{
 "cells": [
  {
   "cell_type": "raw",
   "metadata": {},
   "source": [
    "Dataset: NIH Chest X-rays\n",
    "https://github.com/mit-lcp/mimic-cxr/\n",
    "1) 377,110 images corresponding to 227,835 radiographic studies\n",
    "2）Label:No Finding,Enlarged Cardiomediastinum,Cardiomegaly,Airspace Opacity,Lung Lesion,Edema,Consolidation,Pneumonia,Atelectasis,Pneumothorax,Pleural Effusion,Pleural Other,Fracture,Support Devices\n",
    "0.0 - negative, 1.0 - positve, -1.0 - uncertain"
   ]
  },
  {
   "cell_type": "code",
   "execution_count": 1,
   "metadata": {},
   "outputs": [
    {
     "name": "stderr",
     "output_type": "stream",
     "text": [
      "Loading faiss with AVX2 support.\n"
     ]
    },
    {
     "name": "stdout",
     "output_type": "stream",
     "text": [
      "0\n"
     ]
    }
   ],
   "source": [
    "import matplotlib.pyplot as plt\n",
    "%matplotlib inline\n",
    "import numpy as np\n",
    "import pandas as pd\n",
    "import os\n",
    "import sys\n",
    "import shutil\n",
    "import math\n",
    "import random\n",
    "import heapq \n",
    "import time\n",
    "import copy\n",
    "import itertools  \n",
    "from PIL import Image\n",
    "from io import StringIO,BytesIO \n",
    "from scipy.spatial.distance import pdist\n",
    "import cv2\n",
    "from scipy.signal import butter, lfilter\n",
    "from sklearn.model_selection import train_test_split\n",
    "from sklearn.metrics import confusion_matrix,roc_curve,accuracy_score,auc \n",
    "from functools import reduce\n",
    "import faiss \n",
    "import torch\n",
    "import torch.nn as nn\n",
    "import torch.nn.functional as F\n",
    "from torch.autograd import Variable\n",
    "torch.cuda.set_device(0)\n",
    "print (torch.cuda.current_device())"
   ]
  },
  {
   "cell_type": "code",
   "execution_count": 7,
   "metadata": {},
   "outputs": [
    {
     "name": "stdout",
     "output_type": "stream",
     "text": [
      "Dataset statistic, records: 369126, fields: 16\n",
      "['path', 'view', 'No Finding', 'Enlarged Cardiomediastinum', 'Cardiomegaly', 'Airspace Opacity', 'Lung Lesion', 'Edema', 'Consolidation', 'Pneumonia', 'Atelectasis', 'Pneumothorax', 'Pleural Effusion', 'Pleural Other', 'Fracture', 'Support Devices']\n"
     ]
    }
   ],
   "source": [
    "trData = pd.read_csv(\"/data/fjsdata/physionet/MIMIC-CXR/train.csv\" , sep=',')\n",
    "print('Dataset statistic, records: %d, fields: %d'%(trData.shape[0], trData.shape[1]))\n",
    "print(trData.columns.values.tolist())"
   ]
  },
  {
   "cell_type": "code",
   "execution_count": 8,
   "metadata": {},
   "outputs": [
    {
     "name": "stdout",
     "output_type": "stream",
     "text": [
      "frontal    248236\n",
      "lateral    120743\n",
      "other         147\n",
      "Name: view, dtype: int64\n"
     ]
    }
   ],
   "source": [
    "print(trData['view'].value_counts())"
   ]
  },
  {
   "cell_type": "code",
   "execution_count": 10,
   "metadata": {},
   "outputs": [
    {
     "name": "stdout",
     "output_type": "stream",
     "text": [
      "-1.0    12407\n",
      " 1.0     9844\n",
      " 0.0     9796\n",
      "Name: Enlarged Cardiomediastinum, dtype: int64\n"
     ]
    }
   ],
   "source": [
    "print(trData['Enlarged Cardiomediastinum'].value_counts())"
   ]
  },
  {
   "cell_type": "code",
   "execution_count": 17,
   "metadata": {},
   "outputs": [
    {
     "name": "stdout",
     "output_type": "stream",
     "text": [
      "                                    path     view  No Finding  \\\n",
      "0  train/p10000032/s01/view1_frontal.jpg  frontal         1.0   \n",
      "1  train/p10000032/s01/view2_lateral.jpg  lateral         1.0   \n",
      "2  train/p10000032/s02/view1_frontal.jpg  frontal         1.0   \n",
      "3  train/p10000032/s02/view2_lateral.jpg  lateral         1.0   \n",
      "4  train/p10000032/s03/view1_frontal.jpg  frontal         1.0   \n",
      "\n",
      "   Enlarged Cardiomediastinum  Cardiomegaly  Airspace Opacity  Lung Lesion  \\\n",
      "0                         NaN           NaN               NaN          NaN   \n",
      "1                         NaN           NaN               NaN          NaN   \n",
      "2                         NaN           NaN               NaN          NaN   \n",
      "3                         NaN           NaN               NaN          NaN   \n",
      "4                         NaN           NaN               NaN          NaN   \n",
      "\n",
      "   Edema  Consolidation  Pneumonia  Atelectasis  Pneumothorax  \\\n",
      "0    NaN            NaN        NaN          NaN           NaN   \n",
      "1    NaN            NaN        NaN          NaN           NaN   \n",
      "2    NaN            NaN        NaN          NaN           NaN   \n",
      "3    NaN            NaN        NaN          NaN           NaN   \n",
      "4    NaN            NaN        NaN          NaN           NaN   \n",
      "\n",
      "   Pleural Effusion  Pleural Other  Fracture  Support Devices  \n",
      "0               NaN            NaN       NaN              NaN  \n",
      "1               NaN            NaN       NaN              NaN  \n",
      "2               NaN            NaN       NaN              NaN  \n",
      "3               NaN            NaN       NaN              NaN  \n",
      "4               NaN            NaN       NaN              NaN  \n"
     ]
    }
   ],
   "source": [
    "print(trData.head(5))"
   ]
  },
  {
   "cell_type": "code",
   "execution_count": 11,
   "metadata": {},
   "outputs": [
    {
     "name": "stdout",
     "output_type": "stream",
     "text": [
      "Dataset statistic, records: 2732, fields: 16\n",
      "['path', 'view', 'No Finding', 'Enlarged Cardiomediastinum', 'Cardiomegaly', 'Airspace Opacity', 'Lung Lesion', 'Edema', 'Consolidation', 'Pneumonia', 'Atelectasis', 'Pneumothorax', 'Pleural Effusion', 'Pleural Other', 'Fracture', 'Support Devices']\n"
     ]
    }
   ],
   "source": [
    "teData = pd.read_csv(\"/data/fjsdata/physionet/MIMIC-CXR/valid.csv\" , sep=',')\n",
    "print('Dataset statistic, records: %d, fields: %d'%(teData.shape[0], teData.shape[1]))\n",
    "print(teData.columns.values.tolist())"
   ]
  },
  {
   "cell_type": "code",
   "execution_count": 14,
   "metadata": {},
   "outputs": [
    {
     "name": "stdout",
     "output_type": "stream",
     "text": [
      "frontal    1759\n",
      "lateral     972\n",
      "other         1\n",
      "Name: view, dtype: int64\n"
     ]
    }
   ],
   "source": [
    "print(teData['view'].value_counts())"
   ]
  },
  {
   "cell_type": "code",
   "execution_count": 15,
   "metadata": {},
   "outputs": [
    {
     "name": "stdout",
     "output_type": "stream",
     "text": [
      "-1.0    79\n",
      " 0.0    76\n",
      " 1.0    59\n",
      "Name: Enlarged Cardiomediastinum, dtype: int64\n"
     ]
    }
   ],
   "source": [
    "print(teData['Enlarged Cardiomediastinum'].value_counts())"
   ]
  },
  {
   "cell_type": "code",
   "execution_count": 16,
   "metadata": {},
   "outputs": [
    {
     "name": "stdout",
     "output_type": "stream",
     "text": [
      "                                    path     view  No Finding  \\\n",
      "0  valid/p10228846/s01/view1_frontal.jpg  frontal         1.0   \n",
      "1  valid/p10228846/s01/view2_lateral.jpg  lateral         1.0   \n",
      "2  valid/p10228846/s02/view1_frontal.jpg  frontal         NaN   \n",
      "3  valid/p10228846/s02/view2_lateral.jpg  lateral         NaN   \n",
      "4  valid/p10248350/s01/view1_frontal.jpg  frontal         1.0   \n",
      "\n",
      "   Enlarged Cardiomediastinum  Cardiomegaly  Airspace Opacity  Lung Lesion  \\\n",
      "0                         NaN           NaN               NaN          NaN   \n",
      "1                         NaN           NaN               NaN          NaN   \n",
      "2                         NaN           NaN               1.0          NaN   \n",
      "3                         NaN           NaN               1.0          NaN   \n",
      "4                         NaN           NaN               NaN          NaN   \n",
      "\n",
      "   Edema  Consolidation  Pneumonia  Atelectasis  Pneumothorax  \\\n",
      "0    NaN            NaN        NaN          NaN           NaN   \n",
      "1    NaN            NaN        NaN          NaN           NaN   \n",
      "2    NaN            NaN        1.0          NaN           NaN   \n",
      "3    NaN            NaN        1.0          NaN           NaN   \n",
      "4    NaN            NaN        NaN          NaN           NaN   \n",
      "\n",
      "   Pleural Effusion  Pleural Other  Fracture  Support Devices  \n",
      "0               NaN            NaN       NaN              NaN  \n",
      "1               NaN            NaN       NaN              NaN  \n",
      "2               NaN            NaN       NaN              NaN  \n",
      "3               NaN            NaN       NaN              NaN  \n",
      "4               NaN            NaN       NaN              NaN  \n"
     ]
    }
   ],
   "source": [
    "print(teData.head(5))"
   ]
  },
  {
   "cell_type": "code",
   "execution_count": null,
   "metadata": {},
   "outputs": [],
   "source": []
  }
 ],
 "metadata": {
  "kernelspec": {
   "display_name": "Python 3",
   "language": "python",
   "name": "python3"
  },
  "language_info": {
   "codemirror_mode": {
    "name": "ipython",
    "version": 3
   },
   "file_extension": ".py",
   "mimetype": "text/x-python",
   "name": "python",
   "nbconvert_exporter": "python",
   "pygments_lexer": "ipython3",
   "version": "3.7.4"
  }
 },
 "nbformat": 4,
 "nbformat_minor": 4
}
